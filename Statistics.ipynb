{
 "cells": [
  {
   "cell_type": "code",
   "execution_count": 2,
   "metadata": {
    "collapsed": true
   },
   "outputs": [],
   "source": [
    "import pandas\n",
    "import sqlite3\n",
    "import numpy\n",
    "import statsmodels.formula.api as smf"
   ]
  },
  {
   "cell_type": "code",
   "execution_count": 3,
   "metadata": {
    "collapsed": false
   },
   "outputs": [],
   "source": [
    "conn = sqlite3.connect('/home/computerowner/Documents/PythonCodes/Bets/BettingData.db')\n",
    "dfSeason = pandas.read_sql_query('SELECT * FROM SeasonResults', conn)\n",
    "dfGame = pandas.read_sql_query('SELECT * FROM GameResults', conn)\n",
    "dfSplits = pandas.read_sql_query('SELECT * FROM TeamSplits', conn)\n",
    "\n",
    "conn.close()"
   ]
  },
  {
   "cell_type": "code",
   "execution_count": 4,
   "metadata": {
    "collapsed": false
   },
   "outputs": [
    {
     "data": {
      "text/html": [
       "<div>\n",
       "<table border=\"1\" class=\"dataframe\">\n",
       "  <thead>\n",
       "    <tr style=\"text-align: right;\">\n",
       "      <th></th>\n",
       "      <th>SchoolName</th>\n",
       "      <th>Side</th>\n",
       "      <th>Year</th>\n",
       "      <th>Value</th>\n",
       "      <th>GamesPlayed</th>\n",
       "      <th>TotalYds</th>\n",
       "      <th>TotalPlays</th>\n",
       "    </tr>\n",
       "  </thead>\n",
       "  <tbody>\n",
       "    <tr>\n",
       "      <th>3</th>\n",
       "      <td>air-force</td>\n",
       "      <td>Offense</td>\n",
       "      <td>2006</td>\n",
       "      <td>Loss</td>\n",
       "      <td>8</td>\n",
       "      <td>323.6</td>\n",
       "      <td>64.5</td>\n",
       "    </tr>\n",
       "    <tr>\n",
       "      <th>12</th>\n",
       "      <td>air-force</td>\n",
       "      <td>Offense</td>\n",
       "      <td>2007</td>\n",
       "      <td>Loss</td>\n",
       "      <td>4</td>\n",
       "      <td>363.0</td>\n",
       "      <td>69.0</td>\n",
       "    </tr>\n",
       "    <tr>\n",
       "      <th>22</th>\n",
       "      <td>air-force</td>\n",
       "      <td>Offense</td>\n",
       "      <td>2008</td>\n",
       "      <td>Loss</td>\n",
       "      <td>5</td>\n",
       "      <td>307.2</td>\n",
       "      <td>67.0</td>\n",
       "    </tr>\n",
       "    <tr>\n",
       "      <th>32</th>\n",
       "      <td>air-force</td>\n",
       "      <td>Offense</td>\n",
       "      <td>2009</td>\n",
       "      <td>Loss</td>\n",
       "      <td>5</td>\n",
       "      <td>306.2</td>\n",
       "      <td>75.2</td>\n",
       "    </tr>\n",
       "    <tr>\n",
       "      <th>42</th>\n",
       "      <td>air-force</td>\n",
       "      <td>Offense</td>\n",
       "      <td>2010</td>\n",
       "      <td>Loss</td>\n",
       "      <td>4</td>\n",
       "      <td>396.8</td>\n",
       "      <td>67.8</td>\n",
       "    </tr>\n",
       "  </tbody>\n",
       "</table>\n",
       "</div>"
      ],
      "text/plain": [
       "   SchoolName     Side  Year Value  GamesPlayed  TotalYds  TotalPlays\n",
       "3   air-force  Offense  2006  Loss            8     323.6        64.5\n",
       "12  air-force  Offense  2007  Loss            4     363.0        69.0\n",
       "22  air-force  Offense  2008  Loss            5     307.2        67.0\n",
       "32  air-force  Offense  2009  Loss            5     306.2        75.2\n",
       "42  air-force  Offense  2010  Loss            4     396.8        67.8"
      ]
     },
     "execution_count": 4,
     "metadata": {},
     "output_type": "execute_result"
    }
   ],
   "source": [
    "dfSplits1 = dfSplits[['SchoolName','Side','Year','Value','GamesPlayed','TotalYds','TotalPlays']].copy()\n",
    "dfSplits1 = dfSplits1[dfSplits1['Side'] == 'Offense']\n",
    "\n",
    "wins = dfSplits1[(dfSplits1['Value'] == 'Win')]\n",
    "wins.head()\n",
    "losses = dfSplits1[(dfSplits1['Value'] == 'Loss')]\n",
    "losses.head()"
   ]
  },
  {
   "cell_type": "code",
   "execution_count": 5,
   "metadata": {
    "collapsed": false,
    "scrolled": true
   },
   "outputs": [
    {
     "data": {
      "text/html": [
       "<div>\n",
       "<table border=\"1\" class=\"dataframe\">\n",
       "  <thead>\n",
       "    <tr style=\"text-align: right;\">\n",
       "      <th></th>\n",
       "      <th>SchoolName</th>\n",
       "      <th>Year</th>\n",
       "      <th>Wins</th>\n",
       "      <th>Losses</th>\n",
       "      <th>TotalPlays</th>\n",
       "      <th>YdsPerPlay</th>\n",
       "      <th>TotalGames</th>\n",
       "      <th>WinningPercentage</th>\n",
       "    </tr>\n",
       "  </thead>\n",
       "  <tbody>\n",
       "    <tr>\n",
       "      <th>0</th>\n",
       "      <td>air-force</td>\n",
       "      <td>2006</td>\n",
       "      <td>4</td>\n",
       "      <td>8</td>\n",
       "      <td>137.0</td>\n",
       "      <td>4.878832</td>\n",
       "      <td>12</td>\n",
       "      <td>0.333333</td>\n",
       "    </tr>\n",
       "    <tr>\n",
       "      <th>1</th>\n",
       "      <td>air-force</td>\n",
       "      <td>2007</td>\n",
       "      <td>9</td>\n",
       "      <td>4</td>\n",
       "      <td>142.2</td>\n",
       "      <td>5.677918</td>\n",
       "      <td>13</td>\n",
       "      <td>0.692308</td>\n",
       "    </tr>\n",
       "    <tr>\n",
       "      <th>2</th>\n",
       "      <td>air-force</td>\n",
       "      <td>2008</td>\n",
       "      <td>8</td>\n",
       "      <td>5</td>\n",
       "      <td>139.5</td>\n",
       "      <td>4.892473</td>\n",
       "      <td>13</td>\n",
       "      <td>0.615385</td>\n",
       "    </tr>\n",
       "    <tr>\n",
       "      <th>3</th>\n",
       "      <td>air-force</td>\n",
       "      <td>2009</td>\n",
       "      <td>8</td>\n",
       "      <td>5</td>\n",
       "      <td>149.2</td>\n",
       "      <td>4.819705</td>\n",
       "      <td>13</td>\n",
       "      <td>0.615385</td>\n",
       "    </tr>\n",
       "    <tr>\n",
       "      <th>4</th>\n",
       "      <td>air-force</td>\n",
       "      <td>2010</td>\n",
       "      <td>9</td>\n",
       "      <td>4</td>\n",
       "      <td>139.5</td>\n",
       "      <td>5.989964</td>\n",
       "      <td>13</td>\n",
       "      <td>0.692308</td>\n",
       "    </tr>\n",
       "  </tbody>\n",
       "</table>\n",
       "</div>"
      ],
      "text/plain": [
       "  SchoolName  Year  Wins  Losses  TotalPlays  YdsPerPlay  TotalGames  \\\n",
       "0  air-force  2006     4       8       137.0    4.878832          12   \n",
       "1  air-force  2007     9       4       142.2    5.677918          13   \n",
       "2  air-force  2008     8       5       139.5    4.892473          13   \n",
       "3  air-force  2009     8       5       149.2    4.819705          13   \n",
       "4  air-force  2010     9       4       139.5    5.989964          13   \n",
       "\n",
       "   WinningPercentage  \n",
       "0           0.333333  \n",
       "1           0.692308  \n",
       "2           0.615385  \n",
       "3           0.615385  \n",
       "4           0.692308  "
      ]
     },
     "execution_count": 5,
     "metadata": {},
     "output_type": "execute_result"
    }
   ],
   "source": [
    "dfRecord = pandas.merge(wins, losses, how='inner', on = ['SchoolName','Year'])\n",
    "\n",
    "dfRecord = dfRecord[['SchoolName','Year','GamesPlayed_x','GamesPlayed_y','TotalPlays_x','TotalPlays_y','TotalYds_x','TotalYds_y']]\n",
    "dfRecord = dfRecord.rename( columns = {'GamesPlayed_x':'Wins','GamesPlayed_y':'Losses'})\n",
    "dfRecord = dfRecord.drop_duplicates()\n",
    "\n",
    "dfRecord['TotalYds'] = dfRecord['TotalYds_x'] + dfRecord['TotalYds_y']\n",
    "dfRecord['TotalPlays'] = dfRecord['TotalPlays_x'] + dfRecord['TotalPlays_y']\n",
    "dfRecord['YdsPerPlay'] = dfRecord['TotalYds']/dfRecord['TotalPlays']\n",
    "dfRecord['TotalGames'] = dfRecord['Wins'] + dfRecord['Losses']\n",
    "dfRecord['WinningPercentage'] = dfRecord['Wins']/dfRecord['TotalGames']\n",
    "dfRecord = dfRecord[['SchoolName','Year','Wins','Losses','TotalPlays','YdsPerPlay','TotalGames','WinningPercentage']]\n",
    "dfRecord.head()"
   ]
  },
  {
   "cell_type": "code",
   "execution_count": 6,
   "metadata": {
    "collapsed": false
   },
   "outputs": [
    {
     "data": {
      "text/html": [
       "<div>\n",
       "<table border=\"1\" class=\"dataframe\">\n",
       "  <thead>\n",
       "    <tr style=\"text-align: right;\">\n",
       "      <th></th>\n",
       "      <th>Year</th>\n",
       "      <th>Wins</th>\n",
       "      <th>Losses</th>\n",
       "      <th>TotalPlays</th>\n",
       "      <th>YdsPerPlay</th>\n",
       "      <th>TotalGames</th>\n",
       "      <th>WinningPercentage</th>\n",
       "    </tr>\n",
       "  </thead>\n",
       "  <tbody>\n",
       "    <tr>\n",
       "      <th>Year</th>\n",
       "      <td>1.000000</td>\n",
       "      <td>-0.004845</td>\n",
       "      <td>-0.016644</td>\n",
       "      <td>0.321986</td>\n",
       "      <td>0.177416</td>\n",
       "      <td>-0.073623</td>\n",
       "      <td>0.002142</td>\n",
       "    </tr>\n",
       "    <tr>\n",
       "      <th>Wins</th>\n",
       "      <td>-0.004845</td>\n",
       "      <td>1.000000</td>\n",
       "      <td>-0.978664</td>\n",
       "      <td>0.064030</td>\n",
       "      <td>0.294744</td>\n",
       "      <td>0.739717</td>\n",
       "      <td>0.993284</td>\n",
       "    </tr>\n",
       "    <tr>\n",
       "      <th>Losses</th>\n",
       "      <td>-0.016644</td>\n",
       "      <td>-0.978664</td>\n",
       "      <td>1.000000</td>\n",
       "      <td>-0.074844</td>\n",
       "      <td>-0.299516</td>\n",
       "      <td>-0.585673</td>\n",
       "      <td>-0.992722</td>\n",
       "    </tr>\n",
       "    <tr>\n",
       "      <th>TotalPlays</th>\n",
       "      <td>0.321986</td>\n",
       "      <td>0.064030</td>\n",
       "      <td>-0.074844</td>\n",
       "      <td>1.000000</td>\n",
       "      <td>0.218536</td>\n",
       "      <td>0.007472</td>\n",
       "      <td>0.069199</td>\n",
       "    </tr>\n",
       "    <tr>\n",
       "      <th>YdsPerPlay</th>\n",
       "      <td>0.177416</td>\n",
       "      <td>0.294744</td>\n",
       "      <td>-0.299516</td>\n",
       "      <td>0.218536</td>\n",
       "      <td>1.000000</td>\n",
       "      <td>0.181804</td>\n",
       "      <td>0.299690</td>\n",
       "    </tr>\n",
       "    <tr>\n",
       "      <th>TotalGames</th>\n",
       "      <td>-0.073623</td>\n",
       "      <td>0.739717</td>\n",
       "      <td>-0.585673</td>\n",
       "      <td>0.007472</td>\n",
       "      <td>0.181804</td>\n",
       "      <td>1.000000</td>\n",
       "      <td>0.667184</td>\n",
       "    </tr>\n",
       "    <tr>\n",
       "      <th>WinningPercentage</th>\n",
       "      <td>0.002142</td>\n",
       "      <td>0.993284</td>\n",
       "      <td>-0.992722</td>\n",
       "      <td>0.069199</td>\n",
       "      <td>0.299690</td>\n",
       "      <td>0.667184</td>\n",
       "      <td>1.000000</td>\n",
       "    </tr>\n",
       "  </tbody>\n",
       "</table>\n",
       "</div>"
      ],
      "text/plain": [
       "                       Year      Wins    Losses  TotalPlays  YdsPerPlay  \\\n",
       "Year               1.000000 -0.004845 -0.016644    0.321986    0.177416   \n",
       "Wins              -0.004845  1.000000 -0.978664    0.064030    0.294744   \n",
       "Losses            -0.016644 -0.978664  1.000000   -0.074844   -0.299516   \n",
       "TotalPlays         0.321986  0.064030 -0.074844    1.000000    0.218536   \n",
       "YdsPerPlay         0.177416  0.294744 -0.299516    0.218536    1.000000   \n",
       "TotalGames        -0.073623  0.739717 -0.585673    0.007472    0.181804   \n",
       "WinningPercentage  0.002142  0.993284 -0.992722    0.069199    0.299690   \n",
       "\n",
       "                   TotalGames  WinningPercentage  \n",
       "Year                -0.073623           0.002142  \n",
       "Wins                 0.739717           0.993284  \n",
       "Losses              -0.585673          -0.992722  \n",
       "TotalPlays           0.007472           0.069199  \n",
       "YdsPerPlay           0.181804           0.299690  \n",
       "TotalGames           1.000000           0.667184  \n",
       "WinningPercentage    0.667184           1.000000  "
      ]
     },
     "execution_count": 6,
     "metadata": {},
     "output_type": "execute_result"
    }
   ],
   "source": [
    "dfRecord.corr()"
   ]
  },
  {
   "cell_type": "code",
   "execution_count": 7,
   "metadata": {
    "collapsed": false
   },
   "outputs": [
    {
     "data": {
      "text/html": [
       "<table class=\"simpletable\">\n",
       "<caption>OLS Regression Results</caption>\n",
       "<tr>\n",
       "  <th>Dep. Variable:</th>    <td>WinningPercentage</td> <th>  R-squared:         </th> <td>   0.090</td>\n",
       "</tr>\n",
       "<tr>\n",
       "  <th>Model:</th>                   <td>OLS</td>        <th>  Adj. R-squared:    </th> <td>   0.089</td>\n",
       "</tr>\n",
       "<tr>\n",
       "  <th>Method:</th>             <td>Least Squares</td>   <th>  F-statistic:       </th> <td>   117.5</td>\n",
       "</tr>\n",
       "<tr>\n",
       "  <th>Date:</th>             <td>Wed, 22 Jun 2016</td>  <th>  Prob (F-statistic):</th> <td>3.51e-26</td>\n",
       "</tr>\n",
       "<tr>\n",
       "  <th>Time:</th>                 <td>09:10:44</td>      <th>  Log-Likelihood:    </th> <td>  187.72</td>\n",
       "</tr>\n",
       "<tr>\n",
       "  <th>No. Observations:</th>      <td>  1193</td>       <th>  AIC:               </th> <td>  -371.4</td>\n",
       "</tr>\n",
       "<tr>\n",
       "  <th>Df Residuals:</th>          <td>  1191</td>       <th>  BIC:               </th> <td>  -361.3</td>\n",
       "</tr>\n",
       "<tr>\n",
       "  <th>Df Model:</th>              <td>     1</td>       <th>                     </th>     <td> </td>   \n",
       "</tr>\n",
       "<tr>\n",
       "  <th>Covariance Type:</th>      <td>nonrobust</td>     <th>                     </th>     <td> </td>   \n",
       "</tr>\n",
       "</table>\n",
       "<table class=\"simpletable\">\n",
       "<tr>\n",
       "       <td></td>         <th>coef</th>     <th>std err</th>      <th>t</th>      <th>P>|t|</th> <th>[95.0% Conf. Int.]</th> \n",
       "</tr>\n",
       "<tr>\n",
       "  <th>Intercept</th>  <td>   -0.0630</td> <td>    0.054</td> <td>   -1.168</td> <td> 0.243</td> <td>   -0.169     0.043</td>\n",
       "</tr>\n",
       "<tr>\n",
       "  <th>YdsPerPlay</th> <td>    0.1047</td> <td>    0.010</td> <td>   10.841</td> <td> 0.000</td> <td>    0.086     0.124</td>\n",
       "</tr>\n",
       "</table>\n",
       "<table class=\"simpletable\">\n",
       "<tr>\n",
       "  <th>Omnibus:</th>       <td>37.543</td> <th>  Durbin-Watson:     </th> <td>   1.154</td>\n",
       "</tr>\n",
       "<tr>\n",
       "  <th>Prob(Omnibus):</th> <td> 0.000</td> <th>  Jarque-Bera (JB):  </th> <td>  21.185</td>\n",
       "</tr>\n",
       "<tr>\n",
       "  <th>Skew:</th>          <td>-0.155</td> <th>  Prob(JB):          </th> <td>2.51e-05</td>\n",
       "</tr>\n",
       "<tr>\n",
       "  <th>Kurtosis:</th>      <td> 2.425</td> <th>  Cond. No.          </th> <td>    51.9</td>\n",
       "</tr>\n",
       "</table>"
      ],
      "text/plain": [
       "<class 'statsmodels.iolib.summary.Summary'>\n",
       "\"\"\"\n",
       "                            OLS Regression Results                            \n",
       "==============================================================================\n",
       "Dep. Variable:      WinningPercentage   R-squared:                       0.090\n",
       "Model:                            OLS   Adj. R-squared:                  0.089\n",
       "Method:                 Least Squares   F-statistic:                     117.5\n",
       "Date:                Wed, 22 Jun 2016   Prob (F-statistic):           3.51e-26\n",
       "Time:                        09:10:44   Log-Likelihood:                 187.72\n",
       "No. Observations:                1193   AIC:                            -371.4\n",
       "Df Residuals:                    1191   BIC:                            -361.3\n",
       "Df Model:                           1                                         \n",
       "Covariance Type:            nonrobust                                         \n",
       "==============================================================================\n",
       "                 coef    std err          t      P>|t|      [95.0% Conf. Int.]\n",
       "------------------------------------------------------------------------------\n",
       "Intercept     -0.0630      0.054     -1.168      0.243        -0.169     0.043\n",
       "YdsPerPlay     0.1047      0.010     10.841      0.000         0.086     0.124\n",
       "==============================================================================\n",
       "Omnibus:                       37.543   Durbin-Watson:                   1.154\n",
       "Prob(Omnibus):                  0.000   Jarque-Bera (JB):               21.185\n",
       "Skew:                          -0.155   Prob(JB):                     2.51e-05\n",
       "Kurtosis:                       2.425   Cond. No.                         51.9\n",
       "==============================================================================\n",
       "\n",
       "Warnings:\n",
       "[1] Standard Errors assume that the covariance matrix of the errors is correctly specified.\n",
       "\"\"\""
      ]
     },
     "execution_count": 7,
     "metadata": {},
     "output_type": "execute_result"
    }
   ],
   "source": [
    "model = smf.ols('WinningPercentage ~ YdsPerPlay', data = dfRecord).fit()\n",
    "model.summary()"
   ]
  },
  {
   "cell_type": "code",
   "execution_count": 8,
   "metadata": {
    "collapsed": false
   },
   "outputs": [
    {
     "data": {
      "text/plain": [
       "Intercept    -0.062991\n",
       "YdsPerPlay    0.104675\n",
       "dtype: float64"
      ]
     },
     "execution_count": 8,
     "metadata": {},
     "output_type": "execute_result"
    }
   ],
   "source": [
    "model.params"
   ]
  },
  {
   "cell_type": "code",
   "execution_count": 10,
   "metadata": {
    "collapsed": false
   },
   "outputs": [
    {
     "data": {
      "text/plain": [
       "Index(['SchoolName', 'Year', 'Wins', 'Losses', 'TotalPlays', 'YdsPerPlay',\n",
       "       'TotalGames', 'WinningPercentage'],\n",
       "      dtype='object')"
      ]
     },
     "execution_count": 10,
     "metadata": {},
     "output_type": "execute_result"
    }
   ],
   "source": [
    "dfRecord.columns"
   ]
  },
  {
   "cell_type": "code",
   "execution_count": null,
   "metadata": {
    "collapsed": true
   },
   "outputs": [],
   "source": []
  }
 ],
 "metadata": {
  "kernelspec": {
   "display_name": "Python 3",
   "language": "python",
   "name": "python3"
  },
  "language_info": {
   "codemirror_mode": {
    "name": "ipython",
    "version": 3
   },
   "file_extension": ".py",
   "mimetype": "text/x-python",
   "name": "python",
   "nbconvert_exporter": "python",
   "pygments_lexer": "ipython3",
   "version": "3.5.1"
  }
 },
 "nbformat": 4,
 "nbformat_minor": 0
}
